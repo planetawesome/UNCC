{
 "cells": [
  {
   "cell_type": "code",
   "execution_count": 1,
   "metadata": {},
   "outputs": [],
   "source": [
    "import pandas as pd\n",
    "import numpy as np\n",
    "\n"
   ]
  },
  {
   "cell_type": "code",
   "execution_count": null,
   "metadata": {},
   "outputs": [],
   "source": []
  },
  {
   "cell_type": "code",
   "execution_count": 55,
   "metadata": {},
   "outputs": [],
   "source": [
    "stock_prices=[1.42, 1.00, 1.32, 1.45, 1.20, 1.34, 1.74, 1.99, 1.10, 1.89, 1.42, 1.90, 1.80, 1.85]\n",
    "#defined variables\n",
    "shares=10000\n",
    "og_buy_price=(stock_prices[0] * shares)\n",
    "og_sell_price=(stock_prices[13] * shares)\n",
    "og_profit=(current_sell_price-og_buy_price)\n",
    "new_max=(max(stock_prices))\n",
    "best_buy=(min(stock_prices))         \n",
    "new_buy_price=(min(stock_prices) * (shares))# used min and max to get min and max values in list. I added some more entries to see if I could break and I couldn't\n",
    "new_sell_price=(max(stock_prices)*(shares))\n",
    "\n",
    "diff=max_prof-og_profit\n",
    "max_prof=(new_sell_price-new_buy_price)\n",
    "\n",
    "def stock_info():\n",
    "    print(\"We started with an initial investment of {} shares.\".format(shares))\n",
    "    print(\"\")\n",
    "    print(\"Our actual selling price was ${} and our initial profit was ${}.\".format(og_sell_price, og_profit))\n",
    "    print(\"\")\n",
    "    print(\"Based on the data we could have bought stock at ${} and sold at ${}.\".format(best_buy,new_max))\n",
    "    print(\"\")\n",
    "    print(\"This means that our new entry price would be ${} and our new selling price would be ${}.\".format(new_buy_price, new_sell_price))\n",
    "    print(\"\")\n",
    "    print(\"Our overall profit from the hypothetical situation would have been ${} and we would have made ${} more profit than our actual sale.\".format(max_prof, diff))"
   ]
  },
  {
   "cell_type": "code",
   "execution_count": 56,
   "metadata": {},
   "outputs": [
    {
     "name": "stdout",
     "output_type": "stream",
     "text": [
      "We started with an initial investment of 10000 shares.\n",
      "\n",
      "Our actual selling price was $18500.0 and our initial profit was $4300.0.\n",
      "\n",
      "Based on the data we could have bought stock at $1.0 and sold at $1.99.\n",
      "\n",
      "This means that our new entry price would be $10000.0 and our new selling price would be $19900.0.\n",
      "\n",
      "Our overall profit from the hypothetical situation would have been $9900.0 and we would have made $5600.0 more profit than our actual sale.\n"
     ]
    }
   ],
   "source": [
    "stock_info()"
   ]
  },
  {
   "cell_type": "code",
   "execution_count": null,
   "metadata": {},
   "outputs": [],
   "source": []
  }
 ],
 "metadata": {
  "kernelspec": {
   "display_name": "Python 3",
   "language": "python",
   "name": "python3"
  },
  "language_info": {
   "codemirror_mode": {
    "name": "ipython",
    "version": 3
   },
   "file_extension": ".py",
   "mimetype": "text/x-python",
   "name": "python",
   "nbconvert_exporter": "python",
   "pygments_lexer": "ipython3",
   "version": "3.8.5"
  }
 },
 "nbformat": 4,
 "nbformat_minor": 4
}
